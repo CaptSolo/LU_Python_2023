{
 "cells": [
  {
   "cell_type": "markdown",
   "metadata": {},
   "source": [
    "![LU Logo](https://www.df.lu.lv/fileadmin/user_upload/LU.LV/Apaksvietnes/Fakultates/www.df.lu.lv/Par_mums/Logo/DF_logo/01_DF_logo_LV.png)"
   ]
  },
  {
   "cell_type": "markdown",
   "metadata": {},
   "source": [
    "# NumPy - fundamental package for scientific computing in Python\n",
    "\n",
    "![NumPy](https://numpy.org/doc/stable/_static/numpylogo.svg)\n",
    "\n",
    " `NumPy` (short for Numerical Python) is one of the foundational packages for numerical computations in Python. It provides support for large multidimensional arrays and matrices, along with a collection of mathematical functions to operate on these arrays\n",
    "\n",
    "## History of Numpy\n",
    "\n",
    "### Numeric\n",
    "\n",
    "* Before NumPy, there was Numeric, sometimes referred to as \"Numerical.\" It was the original ancestor of NumPy and was developed by Jim Hugunin in the mid-1990s.\n",
    "* Numeric was the first widespread, efficient numerical programming library for Python, providing an array object and related operations.\n",
    "* Though it was a foundational library, it had some limitations and inefficiencies.\n",
    "\n",
    "### numarray\n",
    "\n",
    "* Due to the limitations of Numeric, another array-processing package called numarray was developed, primarily by Perry Greenfield, Richard White,Jin-chung Hsu and Todd Miller from the Space Telescope Science Institute.\n",
    "* While numarray addressed many of the shortcomings of Numeric, especially for large arrays and offered new features, it wasn't backward compatible with Numeric. \n",
    "* This split in the community was problematic; some users preferred Numeric for its speed with small arrays, while others leaned towards numarray due to its broader feature set.\n",
    "\n",
    "### NumPy\n",
    "\n",
    "* To reconcile the bifurcation caused by Numeric and numarray, Travis Oliphant, a prominent figure in the scientific Python community, started the development of NumPy in 2005.\n",
    "* Travis Oliphant took the best parts of both Numeric and numarray and created NumPy. Essentially, it was a re-write that also included features from both predecessors.\n",
    "* NumPy 1.0 was released in 2006 and became the de facto standard for numerical operations in Python, bringing the community back together under a single, powerful library.\n",
    "\n",
    "### Community and continued development\n",
    "\n",
    "* Post the release, NumPy's popularity grew significantly, forming a strong foundation for other libraries like SciPy, Matplotlib, and later Pandas(to be seen later in the course).\n",
    "* Today, NumPy is maintained and improved by a vast community of contributors, ensuring its relevance and utility in the world of scientific computing.\n",
    "* The NumPy library has also been a core part of data science and machine learning projects in Python.\n",
    "\n",
    "### NumFocus\n",
    "\n",
    "* NumPy became a fiscally sponsored project of [NumFOCUS](https://numfocus.org/), a non-profit in the U.S. This sponsorship has helped ensure the long-term sustainability of the project.\n",
    "\n",
    "\n",
    "### Sources\n",
    "\n",
    "* [Numeric](https://pypi.org/project/Numeric/) - deprecated\n",
    "* [numarray](https://svn.python.org/www/trunk/pydotorg/pycon/papers/numarray.html) - again deprecated\n",
    "* [history](http://www.southampton.ac.uk/~fangohr/teaching/python/book/html/14-numpy.html)\n",
    "\n",
    "### References\n",
    "\n",
    "* [NumPy](https://numpy.org/)\n",
    "\n",
    "### Books\n",
    "\n",
    "* [Python Data Science Handbook](https://jakevdp.github.io/PythonDataScienceHandbook/) - covers NumPy, Pandas, Matplotlib, Scikit-Learn, and other libraries\n",
    "\n",
    "\n"
   ]
  },
  {
   "cell_type": "markdown",
   "metadata": {},
   "source": [
    "## Lesson Overview\n",
    "\n",
    "We will cover the following topics:\n",
    "\n",
    "* installing Numpy\n",
    "* creating Numpy arrays\n",
    "* indexing and slicing Numpy arrays\n",
    "* manipulating Numpy arrays\n",
    "* aggregating and grouping Numpy arrays\n",
    "* visualizing Numpy arrays\n",
    "* saving and loading Numpy arrays\n",
    "* calculating descriptive statistics with Numpy\n",
    "* general mathematical functions with Numpy\n",
    "* linear algebra with Numpy\n",
    "\n",
    "## Lesson Prerequisites\n",
    "\n",
    "\n",
    "* Basic Python syntax\n",
    "* Basic Python data types\n",
    "* Basic Python operators\n",
    "* Conditional statements, branching with if, elif, else\n",
    "* Loops: for and while\n",
    "* Functions\n",
    "* imports, modules and packages\n",
    "* Data structures: lists, tuples, dictionaries, sets\n",
    "* File I/O\n",
    "* Basics of Object Oriented Programming - Classes and Objects\n",
    "\n",
    "\n",
    "## Lesson Objectives\n",
    "\n",
    "At the end of this lesson you should be able to:\n",
    "\n",
    "* install Numpy\n",
    "* create Numpy arrays\n",
    "* index and slice Numpy arrays\n",
    "* manipulate Numpy arrays\n",
    "* aggregate and group Numpy arrays\n",
    "* visualize Numpy arrays\n",
    "* save and load Numpy arrays"
   ]
  },
  {
   "cell_type": "markdown",
   "metadata": {},
   "source": [
    "### Import required libraries"
   ]
  },
  {
   "cell_type": "code",
   "execution_count": null,
   "metadata": {},
   "outputs": [],
   "source": [
    "# generally imports go at the top of a notebook\n",
    "# python version\n",
    "import sys\n",
    "print(f\"Python version: {sys.version}\")"
   ]
  },
  {
   "cell_type": "markdown",
   "metadata": {},
   "source": [
    "### Topic 1: - setting up NumPy and basic operations"
   ]
  },
  {
   "cell_type": "code",
   "execution_count": null,
   "metadata": {},
   "outputs": [],
   "source": [
    "# check if we have NumPy installed\n",
    "try:\n",
    "    import numpy as np\n",
    "    # version\n",
    "    print(f\"NumPy version: {np.__version__}\")\n",
    "except ImportError:\n",
    "    print(\"NumPy not found\")"
   ]
  },
  {
   "cell_type": "markdown",
   "metadata": {},
   "source": [
    "### 1.1 NumPy Installation\n",
    "\n",
    "NumPy package can be found at https://pypi.org/project/numpy/\n",
    "\n",
    "To install Numpy using pip run the following command in the command prompt (preferably in a virtual environment):\n",
    "\n",
    "```pip install numpy```\n",
    "\n",
    "* Google Colab already has NumPy installed.\n",
    "* If you are using Anaconda distribution, NumPy is already installed.\n",
    "\n",
    "Note: https://numpy.org/install/ provides detailed instructions for installing NumPy.\n",
    "It recommends Anaconda which so happens to be the distribution created by Travis Oliphant, the creator of NumPy.\n",
    "While Anaconda is a great distribution, it is not necessary to install it just for NumPy.\n",
    "\n",
    "\n"
   ]
  },
  {
   "cell_type": "markdown",
   "metadata": {},
   "source": [
    "## 1.2 - NumPy Arrays\n",
    "\n",
    "NumPy arrays are the main way we will use NumPy. They are similar to Python lists, but can have any number of dimensions. They are also much faster than Python lists, and have a number of useful methods.\n",
    "\n",
    "Key characteristics of NumPy arrays:\n",
    "\n",
    "- **Homogeneous** - all elements are of the same type\n",
    "- **Fixed-size** - the size of the array is fixed when it is created\n",
    "- **Fast** - NumPy arrays are implemented in C, so they are much faster than Python lists\n",
    "- **Convenient** - NumPy arrays have a number of useful methods\n",
    "\n",
    "Essentially underneath NumPy arrays you have a C array, which is why they are so fast. You can also create NumPy arrays from Python lists, and vice versa.\n",
    "\n",
    "### 1.2.1 - Creating NumPy Arrays"
   ]
  },
  {
   "cell_type": "code",
   "execution_count": null,
   "metadata": {},
   "outputs": [],
   "source": [
    "# let's create our first NumPy array\n",
    "\n",
    "# import numpy as np if you haven't already\n",
    "arr= np.array([1, 2, 3, 4, 5])\n",
    "print(arr)\n",
    "print(f\"Type of a: {type(arr)}\")\n"
   ]
  },
  {
   "cell_type": "code",
   "execution_count": null,
   "metadata": {},
   "outputs": [],
   "source": [
    "# we can check what data type is stored in the array\n",
    "print(\"Data type of the array:\", arr.dtype)\n",
    "# here we see that the array contains integers"
   ]
  },
  {
   "cell_type": "code",
   "execution_count": null,
   "metadata": {},
   "outputs": [],
   "source": [
    "# We can check length of array using len() function\n",
    "print(f\"Length of array: {len(arr)}\")\n",
    "# also we can check shape of array using shape attribute\n",
    "print(f\"Shape of array: {arr.shape}\")\n",
    "# shape attribute returns a tuple of integers indicating the size of the array in each dimension\n",
    "# ndarray.ndim will tell you the number of axes, or dimensions, of the array.\n",
    "print(f\"Number of axes: {arr.ndim}\")\n",
    "# ndarray.size will tell you the total number of elements of the array. This is the product of the elements of the array’s shape.\n",
    "print(f\"Total number of elements: {arr.size}\")\n",
    "# when we move to higher dimensions, we can use len() function to get the size of first dimension\n",
    "# and size attribute to get the total number of elements"
   ]
  },
  {
   "cell_type": "markdown",
   "metadata": {},
   "source": [
    "#### 1.2.2 Indexing NumPy Arrays"
   ]
  },
  {
   "cell_type": "code",
   "execution_count": null,
   "metadata": {},
   "outputs": [],
   "source": [
    "# accessing elements in NumPy Arrays\n",
    "\n",
    "# we can use same type of indexing and slicing as we did with lists\n",
    "# indexing starts at 0\n",
    "# we can use negative indices to access elements from the end of the array\n",
    "\n",
    "print(\"Accessing elements in NumPy Arrays\")\n",
    "print(\"==================================\")\n",
    "print(\"\")\n",
    "print(\"First element\", arr[0])\n",
    "print(\"Last element\", arr[-1])"
   ]
  },
  {
   "cell_type": "markdown",
   "metadata": {},
   "source": [
    "#### 1.2.3 Slicing NumPy Arrays"
   ]
  },
  {
   "cell_type": "code",
   "execution_count": null,
   "metadata": {},
   "outputs": [],
   "source": [
    "# Slicing of numpy arrays\n",
    "# Slicing is the process of extracting a part of an array.\n",
    "\n",
    "# we use same syntax as for lists\n",
    "# array[start:stop:step]\n",
    "# start is inclusive, stop is exclusive\n",
    "\n",
    "# we can omit any of the three parameters\n",
    "\n",
    "# start defaults to 0\n",
    "# stop defaults to the length of the array in that dimension\n",
    "# step defaults to 1\n",
    "\n",
    "# we can use negative indices to count from the end of the array\n",
    "\n",
    "# let's see some examples using our NumPy array arr\n",
    "\n",
    "# first 3 elements\n",
    "print(\"First 3 elements\", arr[:3])\n",
    "# last 3 elements\n",
    "print(\"Last 3 elements\", arr[-3:])\n",
    "# every other element\n",
    "print(\"Every other element\", arr[::2])\n",
    "# every other element, starting at index 1\n",
    "print(\"Every other element, starting at index 1\", arr[1::2])\n",
    "# reversed array\n",
    "print(\"Reversed array\", arr[::-1])"
   ]
  },
  {
   "cell_type": "markdown",
   "metadata": {},
   "source": [
    "### 1.3 - vector math\n",
    "\n",
    "NumPy lets us do vector math on arrays. This is a very powerful feature of NumPy. Let's see how it works."
   ]
  },
  {
   "cell_type": "code",
   "execution_count": null,
   "metadata": {},
   "outputs": [],
   "source": [
    "# let's add 2 to each element of the array\n",
    "arr + 2 # that is it no need to write a loop!!"
   ]
  },
  {
   "cell_type": "code",
   "execution_count": null,
   "metadata": {},
   "outputs": [],
   "source": [
    "# let's save a result of multiplying our arr by 3\n",
    "arr_m3 = arr * 3\n",
    "arr_m3"
   ]
  },
  {
   "cell_type": "code",
   "execution_count": null,
   "metadata": {},
   "outputs": [],
   "source": [
    "# we can perform any type of mathematical operation on numpy array\n",
    "# for example we could take square root of all the elements in the array\n",
    "np.sqrt(arr)"
   ]
  },
  {
   "cell_type": "code",
   "execution_count": null,
   "metadata": {},
   "outputs": [],
   "source": [
    "# how about area of a circle for all radii in our arr array?\n",
    "# area = pi * r^2\n",
    "\n",
    "area_arr = np.pi * arr**2\n",
    "print(area_arr)"
   ]
  },
  {
   "cell_type": "code",
   "execution_count": null,
   "metadata": {},
   "outputs": [],
   "source": [
    "# Key takeaway is that NumPy vector operations will be much faster than regular Python loops\n",
    "# This is because NumPy vector operations are implemented in C, which is much faster than Python\n",
    "# they might actually take advanatage of multiple cores on your computer\n",
    "# and even vector operations on the CPU\n",
    "\n"
   ]
  },
  {
   "cell_type": "markdown",
   "metadata": {},
   "source": [
    "#### Topic 1 - mini exercise"
   ]
  },
  {
   "cell_type": "markdown",
   "metadata": {},
   "source": [
    "### Topic 2: - reshapinng and stacking NumPy arrays"
   ]
  },
  {
   "cell_type": "code",
   "execution_count": null,
   "metadata": {},
   "outputs": [],
   "source": [
    "### NumPy arrays can be multidimensional\n",
    "# let's create a 2D array\n",
    "\n",
    "arr_2d = np.array([[1, 2, 3], [4, 5, 6]])\n",
    "print(arr_2d)\n",
    "print(f\"Shape of array: {arr_2d.shape}\")"
   ]
  },
  {
   "cell_type": "code",
   "execution_count": null,
   "metadata": {},
   "outputs": [],
   "source": [
    "# how would be get element whose value is 5?\n",
    "\n",
    "# we can use same indexing and slicing as we did with 1D arrays\n",
    "# we just need to specify index for each dimension\n",
    "# first index is for rows, second index is for columns\n",
    "\n",
    "# lets print 2nd row\n",
    "print(\"2nd row\", arr_2d[1])\n",
    "\n",
    "# let's get element whose value is 5, here this is 2nd row and 2nd column\n",
    "print(\"Element whose value is 5\", arr_2d[1, 1])"
   ]
  },
  {
   "cell_type": "code",
   "execution_count": null,
   "metadata": {},
   "outputs": [],
   "source": [
    "# lets make an element of 12 numbers using arange function\n",
    "# arange function is similar to range function in Python\n",
    "# arange function returns an array of evenly spaced values within a given interval\n",
    "\n",
    "# arange([start,] stop[, step,], dtype=None)\n",
    "# start is inclusive, stop is exclusive\n",
    "# we can omit any of the three parameters\n",
    "# start defaults to 0\n",
    "\n",
    "# let's create an array of 12 numbers\n",
    "arr_12 = np.arange(12)\n",
    "# by default the shape will be 1D\n",
    "print(arr_12)\n",
    "print(f\"Shape of array: {arr_12.shape}\")"
   ]
  },
  {
   "cell_type": "code",
   "execution_count": null,
   "metadata": {},
   "outputs": [],
   "source": [
    "# However we can reshape the array to any shape we want as long as the total number of elements is the same\n",
    "\n",
    "# let's reshape our array to 3 rows and 4 columns\n",
    "arr_12_3_4 = arr_12.reshape(3, 4)\n",
    "print(arr_12_3_4)\n",
    "print(f\"Shape of array: {arr_12_3_4.shape}\")"
   ]
  },
  {
   "cell_type": "code",
   "execution_count": null,
   "metadata": {},
   "outputs": [],
   "source": [
    "# we can even reshape it to 3d array\n",
    "arr_12_2_2_3 = arr_12.reshape(2, 2, 3) # any number of dimensions as long as total number of elements is the same\n",
    "print(arr_12_2_2_3)\n",
    "print(f\"Shape of array: {arr_12_2_2_3.shape}\")"
   ]
  },
  {
   "cell_type": "code",
   "execution_count": null,
   "metadata": {},
   "outputs": [],
   "source": [
    "# let's find index of element whose value is 9\n",
    "# we can use where function\n",
    "# where function returns indices of elements that satisfy the condition\n",
    "# np.where(condition[, x, y])\n",
    "\n",
    "# let's find indices of elements whose value is 9\n",
    "indices = np.where(arr_12_2_2_3 == 9)\n",
    "print(indices)\n",
    "# where function returns a tuple of arrays, one for each dimension of arr_12_2_2_3"
   ]
  },
  {
   "cell_type": "code",
   "execution_count": null,
   "metadata": {},
   "outputs": [],
   "source": [
    "# lets change some value to 9 then get indices again\n",
    "arr_12_2_2_3[0, 1, 0] = 9\n",
    "print(arr_12_2_2_3)\n",
    "indices = np.where(arr_12_2_2_3 == 9)\n",
    "print(indices)"
   ]
  },
  {
   "cell_type": "code",
   "execution_count": null,
   "metadata": {},
   "outputs": [],
   "source": [
    "# now if we want to access all elements in indices\n",
    "# we can use tuple unpacking\n",
    "# we can use * operator to unpack the tuple\n",
    "# we can use zip function to iterate over multiple iterables\n",
    "for row, column, depth in zip(*indices):\n",
    "    print(f\"row: {row}, column: {column}, depth: {depth}, value: {arr_12_2_2_3[row, column, depth]}\")"
   ]
  },
  {
   "cell_type": "markdown",
   "metadata": {},
   "source": [
    "#### Topic 2 - mini exercise"
   ]
  },
  {
   "cell_type": "markdown",
   "metadata": {},
   "source": [
    "### Topic 3: - short description here"
   ]
  },
  {
   "cell_type": "code",
   "execution_count": null,
   "metadata": {},
   "outputs": [],
   "source": [
    "### Code for Topic 3 starts here"
   ]
  },
  {
   "cell_type": "markdown",
   "metadata": {},
   "source": [
    "#### Topic 3 - mini exercise"
   ]
  },
  {
   "cell_type": "markdown",
   "metadata": {},
   "source": [
    "## Lesson Overview\n",
    "\n",
    "What have we learned?"
   ]
  },
  {
   "cell_type": "markdown",
   "metadata": {},
   "source": [
    "## Exercises for further practice\n",
    "\n",
    "### Exercise 1\n",
    "\n",
    "### Exercise 2"
   ]
  },
  {
   "cell_type": "markdown",
   "metadata": {},
   "source": [
    "## Additional Resources\n",
    "\n",
    "### Topic 1 - resources\n",
    "\n",
    "- [Resource 1](https://www.google.com) \n",
    "\n",
    "### Topic 2 - resources\n",
    "\n",
    "- [Resource 1](https://www.bing.com)\n",
    "\n",
    "### Topic 3 - resources\n",
    "\n",
    "- [Resource 1](https://www.yahoo.com)\n"
   ]
  }
 ],
 "metadata": {
  "kernelspec": {
   "display_name": "Python 3 (ipykernel)",
   "language": "python",
   "name": "python3"
  },
  "language_info": {
   "codemirror_mode": {
    "name": "ipython",
    "version": 3
   },
   "file_extension": ".py",
   "mimetype": "text/x-python",
   "name": "python",
   "nbconvert_exporter": "python",
   "pygments_lexer": "ipython3",
   "version": "3.9.18"
  }
 },
 "nbformat": 4,
 "nbformat_minor": 4
}
